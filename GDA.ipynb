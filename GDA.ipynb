{
 "cells": [
  {
   "cell_type": "markdown",
   "metadata": {},
   "source": [
    "# GDA ALGORITHM"
   ]
  },
  {
   "cell_type": "code",
   "execution_count": 1,
   "metadata": {},
   "outputs": [],
   "source": [
    "#import our libraries\n",
    "import numpy as np\n",
    "import pandas as pd\n",
    "import numpy.linalg as LA\n",
    "from sklearn.feature_extraction.text import CountVectorizer"
   ]
  },
  {
   "cell_type": "markdown",
   "metadata": {},
   "source": [
    "## LOAD OUR DATA SET\n",
    "##  as we have two dataset we have to caoncatenate its first"
   ]
  },
  {
   "cell_type": "code",
   "execution_count": 2,
   "metadata": {},
   "outputs": [
    {
     "data": {
      "text/html": [
       "<div>\n",
       "<style scoped>\n",
       "    .dataframe tbody tr th:only-of-type {\n",
       "        vertical-align: middle;\n",
       "    }\n",
       "\n",
       "    .dataframe tbody tr th {\n",
       "        vertical-align: top;\n",
       "    }\n",
       "\n",
       "    .dataframe thead th {\n",
       "        text-align: right;\n",
       "    }\n",
       "</style>\n",
       "<table border=\"1\" class=\"dataframe\">\n",
       "  <thead>\n",
       "    <tr style=\"text-align: right;\">\n",
       "      <th></th>\n",
       "      <th>Unnamed: 0</th>\n",
       "      <th>urlDrugName</th>\n",
       "      <th>rating</th>\n",
       "      <th>effectiveness</th>\n",
       "      <th>sideEffects</th>\n",
       "      <th>condition</th>\n",
       "      <th>benefitsReview</th>\n",
       "      <th>sideEffectsReview</th>\n",
       "      <th>commentsReview</th>\n",
       "    </tr>\n",
       "  </thead>\n",
       "  <tbody>\n",
       "    <tr>\n",
       "      <th>0</th>\n",
       "      <td>1366</td>\n",
       "      <td>biaxin</td>\n",
       "      <td>9</td>\n",
       "      <td>Considerably Effective</td>\n",
       "      <td>Mild Side Effects</td>\n",
       "      <td>sinus infection</td>\n",
       "      <td>The antibiotic may have destroyed bacteria cau...</td>\n",
       "      <td>Some back pain, some nauseau.</td>\n",
       "      <td>Took the antibiotics for 14 days. Sinus infect...</td>\n",
       "    </tr>\n",
       "    <tr>\n",
       "      <th>1</th>\n",
       "      <td>3724</td>\n",
       "      <td>lamictal</td>\n",
       "      <td>9</td>\n",
       "      <td>Highly Effective</td>\n",
       "      <td>Mild Side Effects</td>\n",
       "      <td>bipolar disorder</td>\n",
       "      <td>Lamictal stabilized my serious mood swings. On...</td>\n",
       "      <td>Drowsiness, a bit of mental numbness. If you t...</td>\n",
       "      <td>Severe mood swings between hypomania and depre...</td>\n",
       "    </tr>\n",
       "    <tr>\n",
       "      <th>2</th>\n",
       "      <td>3824</td>\n",
       "      <td>depakene</td>\n",
       "      <td>4</td>\n",
       "      <td>Moderately Effective</td>\n",
       "      <td>Severe Side Effects</td>\n",
       "      <td>bipolar disorder</td>\n",
       "      <td>Initial benefits were comparable to the brand ...</td>\n",
       "      <td>Depakene has a very thin coating, which caused...</td>\n",
       "      <td>Depakote was prescribed to me by a Kaiser psyc...</td>\n",
       "    </tr>\n",
       "    <tr>\n",
       "      <th>3</th>\n",
       "      <td>969</td>\n",
       "      <td>sarafem</td>\n",
       "      <td>10</td>\n",
       "      <td>Highly Effective</td>\n",
       "      <td>No Side Effects</td>\n",
       "      <td>bi-polar / anxiety</td>\n",
       "      <td>It controlls my mood swings. It helps me think...</td>\n",
       "      <td>I didnt really notice any side effects.</td>\n",
       "      <td>This drug may not be for everyone but its wond...</td>\n",
       "    </tr>\n",
       "    <tr>\n",
       "      <th>4</th>\n",
       "      <td>696</td>\n",
       "      <td>accutane</td>\n",
       "      <td>10</td>\n",
       "      <td>Highly Effective</td>\n",
       "      <td>Mild Side Effects</td>\n",
       "      <td>nodular acne</td>\n",
       "      <td>Within one week of treatment superficial acne ...</td>\n",
       "      <td>Side effects included moderate to severe dry s...</td>\n",
       "      <td>Drug was taken in gelatin tablet at 0.5 mg per...</td>\n",
       "    </tr>\n",
       "  </tbody>\n",
       "</table>\n",
       "</div>"
      ],
      "text/plain": [
       "   Unnamed: 0 urlDrugName  rating           effectiveness  \\\n",
       "0        1366      biaxin       9  Considerably Effective   \n",
       "1        3724    lamictal       9        Highly Effective   \n",
       "2        3824    depakene       4    Moderately Effective   \n",
       "3         969     sarafem      10        Highly Effective   \n",
       "4         696    accutane      10        Highly Effective   \n",
       "\n",
       "           sideEffects           condition  \\\n",
       "0    Mild Side Effects     sinus infection   \n",
       "1    Mild Side Effects    bipolar disorder   \n",
       "2  Severe Side Effects    bipolar disorder   \n",
       "3      No Side Effects  bi-polar / anxiety   \n",
       "4    Mild Side Effects        nodular acne   \n",
       "\n",
       "                                      benefitsReview  \\\n",
       "0  The antibiotic may have destroyed bacteria cau...   \n",
       "1  Lamictal stabilized my serious mood swings. On...   \n",
       "2  Initial benefits were comparable to the brand ...   \n",
       "3  It controlls my mood swings. It helps me think...   \n",
       "4  Within one week of treatment superficial acne ...   \n",
       "\n",
       "                                   sideEffectsReview  \\\n",
       "0                      Some back pain, some nauseau.   \n",
       "1  Drowsiness, a bit of mental numbness. If you t...   \n",
       "2  Depakene has a very thin coating, which caused...   \n",
       "3            I didnt really notice any side effects.   \n",
       "4  Side effects included moderate to severe dry s...   \n",
       "\n",
       "                                      commentsReview  \n",
       "0  Took the antibiotics for 14 days. Sinus infect...  \n",
       "1  Severe mood swings between hypomania and depre...  \n",
       "2  Depakote was prescribed to me by a Kaiser psyc...  \n",
       "3  This drug may not be for everyone but its wond...  \n",
       "4  Drug was taken in gelatin tablet at 0.5 mg per...  "
      ]
     },
     "execution_count": 2,
     "metadata": {},
     "output_type": "execute_result"
    }
   ],
   "source": [
    "data1 = pd.read_table('drugLibTest_raw.tsv',sep='\\t')\n",
    "data2 = pd.read_table('drugLibTrain_raw.tsv',sep='\\t')\n",
    "data = pd.concat((data1,data2), axis=0)\n",
    "data.head()"
   ]
  },
  {
   "cell_type": "markdown",
   "metadata": {},
   "source": [
    "then i will group the data according to the length, \n",
    "and for that I will use dummies to convert my strings values in\n",
    "numerical values for the data having a small length and countvectorize for the data having\n",
    "a long length for the conversion"
   ]
  },
  {
   "cell_type": "code",
   "execution_count": 3,
   "metadata": {},
   "outputs": [],
   "source": [
    "d1 = data[['effectiveness','sideEffects']]\n",
    "#data['benefitsReview','commentsReview']= data['benefitsReview','commentsReview'].str.lower()\n",
    "text= data[['benefitsReview','commentsReview','sideEffectsReview']].astype(str).apply(lambda z: ' '.join(z),axis=1)\n",
    "text = text.str.lower()\n",
    "texte= text.replace('[\\d+]')#remove numbers\n",
    "d2 = texte\n",
    "data3 = pd.get_dummies(d1)\n",
    " #list of text documents\n",
    "text = d2\n",
    "# create the transform\n",
    "vectorizer = CountVectorizer( binary = True ,min_df=50,\n",
    "                            stop_words ='english', max_features =50,\n",
    "                                                         )\n",
    "# tokenize and build vocab\n",
    "tati = vectorizer.fit_transform(text)\n",
    "data_text=tati.toarray()"
   ]
  },
  {
   "cell_type": "markdown",
   "metadata": {},
   "source": [
    " after that i transform it into dataframe and concatenate the both "
   ]
  },
  {
   "cell_type": "code",
   "execution_count": 4,
   "metadata": {
    "scrolled": true
   },
   "outputs": [
    {
     "data": {
      "text/html": [
       "<div>\n",
       "<style scoped>\n",
       "    .dataframe tbody tr th:only-of-type {\n",
       "        vertical-align: middle;\n",
       "    }\n",
       "\n",
       "    .dataframe tbody tr th {\n",
       "        vertical-align: top;\n",
       "    }\n",
       "\n",
       "    .dataframe thead th {\n",
       "        text-align: right;\n",
       "    }\n",
       "</style>\n",
       "<table border=\"1\" class=\"dataframe\">\n",
       "  <thead>\n",
       "    <tr style=\"text-align: right;\">\n",
       "      <th></th>\n",
       "      <th>0</th>\n",
       "      <th>1</th>\n",
       "      <th>2</th>\n",
       "      <th>3</th>\n",
       "      <th>4</th>\n",
       "      <th>5</th>\n",
       "      <th>6</th>\n",
       "      <th>7</th>\n",
       "      <th>8</th>\n",
       "      <th>9</th>\n",
       "      <th>...</th>\n",
       "      <th>40</th>\n",
       "      <th>41</th>\n",
       "      <th>42</th>\n",
       "      <th>43</th>\n",
       "      <th>44</th>\n",
       "      <th>45</th>\n",
       "      <th>46</th>\n",
       "      <th>47</th>\n",
       "      <th>48</th>\n",
       "      <th>49</th>\n",
       "    </tr>\n",
       "  </thead>\n",
       "  <tbody>\n",
       "    <tr>\n",
       "      <th>0</th>\n",
       "      <td>1</td>\n",
       "      <td>0</td>\n",
       "      <td>0</td>\n",
       "      <td>0</td>\n",
       "      <td>0</td>\n",
       "      <td>0</td>\n",
       "      <td>1</td>\n",
       "      <td>0</td>\n",
       "      <td>0</td>\n",
       "      <td>0</td>\n",
       "      <td>...</td>\n",
       "      <td>1</td>\n",
       "      <td>0</td>\n",
       "      <td>0</td>\n",
       "      <td>0</td>\n",
       "      <td>0</td>\n",
       "      <td>0</td>\n",
       "      <td>0</td>\n",
       "      <td>0</td>\n",
       "      <td>0</td>\n",
       "      <td>0</td>\n",
       "    </tr>\n",
       "    <tr>\n",
       "      <th>1</th>\n",
       "      <td>0</td>\n",
       "      <td>1</td>\n",
       "      <td>0</td>\n",
       "      <td>0</td>\n",
       "      <td>0</td>\n",
       "      <td>0</td>\n",
       "      <td>1</td>\n",
       "      <td>0</td>\n",
       "      <td>0</td>\n",
       "      <td>0</td>\n",
       "      <td>...</td>\n",
       "      <td>0</td>\n",
       "      <td>0</td>\n",
       "      <td>0</td>\n",
       "      <td>1</td>\n",
       "      <td>0</td>\n",
       "      <td>0</td>\n",
       "      <td>0</td>\n",
       "      <td>0</td>\n",
       "      <td>1</td>\n",
       "      <td>0</td>\n",
       "    </tr>\n",
       "    <tr>\n",
       "      <th>2</th>\n",
       "      <td>0</td>\n",
       "      <td>0</td>\n",
       "      <td>0</td>\n",
       "      <td>0</td>\n",
       "      <td>1</td>\n",
       "      <td>0</td>\n",
       "      <td>0</td>\n",
       "      <td>0</td>\n",
       "      <td>0</td>\n",
       "      <td>1</td>\n",
       "      <td>...</td>\n",
       "      <td>0</td>\n",
       "      <td>0</td>\n",
       "      <td>0</td>\n",
       "      <td>0</td>\n",
       "      <td>0</td>\n",
       "      <td>1</td>\n",
       "      <td>0</td>\n",
       "      <td>1</td>\n",
       "      <td>0</td>\n",
       "      <td>1</td>\n",
       "    </tr>\n",
       "    <tr>\n",
       "      <th>3</th>\n",
       "      <td>0</td>\n",
       "      <td>1</td>\n",
       "      <td>0</td>\n",
       "      <td>0</td>\n",
       "      <td>0</td>\n",
       "      <td>0</td>\n",
       "      <td>0</td>\n",
       "      <td>0</td>\n",
       "      <td>1</td>\n",
       "      <td>0</td>\n",
       "      <td>...</td>\n",
       "      <td>0</td>\n",
       "      <td>0</td>\n",
       "      <td>0</td>\n",
       "      <td>0</td>\n",
       "      <td>0</td>\n",
       "      <td>0</td>\n",
       "      <td>0</td>\n",
       "      <td>0</td>\n",
       "      <td>0</td>\n",
       "      <td>0</td>\n",
       "    </tr>\n",
       "    <tr>\n",
       "      <th>4</th>\n",
       "      <td>0</td>\n",
       "      <td>1</td>\n",
       "      <td>0</td>\n",
       "      <td>0</td>\n",
       "      <td>0</td>\n",
       "      <td>0</td>\n",
       "      <td>1</td>\n",
       "      <td>0</td>\n",
       "      <td>0</td>\n",
       "      <td>0</td>\n",
       "      <td>...</td>\n",
       "      <td>0</td>\n",
       "      <td>1</td>\n",
       "      <td>0</td>\n",
       "      <td>0</td>\n",
       "      <td>1</td>\n",
       "      <td>1</td>\n",
       "      <td>0</td>\n",
       "      <td>0</td>\n",
       "      <td>0</td>\n",
       "      <td>0</td>\n",
       "    </tr>\n",
       "    <tr>\n",
       "      <th>...</th>\n",
       "      <td>...</td>\n",
       "      <td>...</td>\n",
       "      <td>...</td>\n",
       "      <td>...</td>\n",
       "      <td>...</td>\n",
       "      <td>...</td>\n",
       "      <td>...</td>\n",
       "      <td>...</td>\n",
       "      <td>...</td>\n",
       "      <td>...</td>\n",
       "      <td>...</td>\n",
       "      <td>...</td>\n",
       "      <td>...</td>\n",
       "      <td>...</td>\n",
       "      <td>...</td>\n",
       "      <td>...</td>\n",
       "      <td>...</td>\n",
       "      <td>...</td>\n",
       "      <td>...</td>\n",
       "      <td>...</td>\n",
       "      <td>...</td>\n",
       "    </tr>\n",
       "    <tr>\n",
       "      <th>4138</th>\n",
       "      <td>0</td>\n",
       "      <td>1</td>\n",
       "      <td>0</td>\n",
       "      <td>0</td>\n",
       "      <td>0</td>\n",
       "      <td>0</td>\n",
       "      <td>1</td>\n",
       "      <td>0</td>\n",
       "      <td>0</td>\n",
       "      <td>0</td>\n",
       "      <td>...</td>\n",
       "      <td>1</td>\n",
       "      <td>0</td>\n",
       "      <td>0</td>\n",
       "      <td>0</td>\n",
       "      <td>0</td>\n",
       "      <td>0</td>\n",
       "      <td>0</td>\n",
       "      <td>0</td>\n",
       "      <td>1</td>\n",
       "      <td>0</td>\n",
       "    </tr>\n",
       "    <tr>\n",
       "      <th>4139</th>\n",
       "      <td>0</td>\n",
       "      <td>0</td>\n",
       "      <td>1</td>\n",
       "      <td>0</td>\n",
       "      <td>0</td>\n",
       "      <td>1</td>\n",
       "      <td>0</td>\n",
       "      <td>0</td>\n",
       "      <td>0</td>\n",
       "      <td>0</td>\n",
       "      <td>...</td>\n",
       "      <td>0</td>\n",
       "      <td>0</td>\n",
       "      <td>0</td>\n",
       "      <td>0</td>\n",
       "      <td>0</td>\n",
       "      <td>1</td>\n",
       "      <td>1</td>\n",
       "      <td>1</td>\n",
       "      <td>1</td>\n",
       "      <td>1</td>\n",
       "    </tr>\n",
       "    <tr>\n",
       "      <th>4140</th>\n",
       "      <td>0</td>\n",
       "      <td>0</td>\n",
       "      <td>0</td>\n",
       "      <td>1</td>\n",
       "      <td>0</td>\n",
       "      <td>0</td>\n",
       "      <td>0</td>\n",
       "      <td>1</td>\n",
       "      <td>0</td>\n",
       "      <td>0</td>\n",
       "      <td>...</td>\n",
       "      <td>1</td>\n",
       "      <td>0</td>\n",
       "      <td>0</td>\n",
       "      <td>0</td>\n",
       "      <td>1</td>\n",
       "      <td>1</td>\n",
       "      <td>0</td>\n",
       "      <td>0</td>\n",
       "      <td>0</td>\n",
       "      <td>0</td>\n",
       "    </tr>\n",
       "    <tr>\n",
       "      <th>4141</th>\n",
       "      <td>1</td>\n",
       "      <td>0</td>\n",
       "      <td>0</td>\n",
       "      <td>0</td>\n",
       "      <td>0</td>\n",
       "      <td>0</td>\n",
       "      <td>1</td>\n",
       "      <td>0</td>\n",
       "      <td>0</td>\n",
       "      <td>0</td>\n",
       "      <td>...</td>\n",
       "      <td>0</td>\n",
       "      <td>0</td>\n",
       "      <td>0</td>\n",
       "      <td>0</td>\n",
       "      <td>1</td>\n",
       "      <td>0</td>\n",
       "      <td>0</td>\n",
       "      <td>0</td>\n",
       "      <td>0</td>\n",
       "      <td>0</td>\n",
       "    </tr>\n",
       "    <tr>\n",
       "      <th>4142</th>\n",
       "      <td>0</td>\n",
       "      <td>0</td>\n",
       "      <td>0</td>\n",
       "      <td>0</td>\n",
       "      <td>1</td>\n",
       "      <td>0</td>\n",
       "      <td>0</td>\n",
       "      <td>1</td>\n",
       "      <td>0</td>\n",
       "      <td>0</td>\n",
       "      <td>...</td>\n",
       "      <td>0</td>\n",
       "      <td>0</td>\n",
       "      <td>0</td>\n",
       "      <td>0</td>\n",
       "      <td>0</td>\n",
       "      <td>0</td>\n",
       "      <td>0</td>\n",
       "      <td>0</td>\n",
       "      <td>0</td>\n",
       "      <td>0</td>\n",
       "    </tr>\n",
       "  </tbody>\n",
       "</table>\n",
       "<p>4143 rows × 60 columns</p>\n",
       "</div>"
      ],
      "text/plain": [
       "      0   1   2   3   4   5   6   7   8   9   ...  40  41  42  43  44  45  46  \\\n",
       "0      1   0   0   0   0   0   1   0   0   0  ...   1   0   0   0   0   0   0   \n",
       "1      0   1   0   0   0   0   1   0   0   0  ...   0   0   0   1   0   0   0   \n",
       "2      0   0   0   0   1   0   0   0   0   1  ...   0   0   0   0   0   1   0   \n",
       "3      0   1   0   0   0   0   0   0   1   0  ...   0   0   0   0   0   0   0   \n",
       "4      0   1   0   0   0   0   1   0   0   0  ...   0   1   0   0   1   1   0   \n",
       "...   ..  ..  ..  ..  ..  ..  ..  ..  ..  ..  ...  ..  ..  ..  ..  ..  ..  ..   \n",
       "4138   0   1   0   0   0   0   1   0   0   0  ...   1   0   0   0   0   0   0   \n",
       "4139   0   0   1   0   0   1   0   0   0   0  ...   0   0   0   0   0   1   1   \n",
       "4140   0   0   0   1   0   0   0   1   0   0  ...   1   0   0   0   1   1   0   \n",
       "4141   1   0   0   0   0   0   1   0   0   0  ...   0   0   0   0   1   0   0   \n",
       "4142   0   0   0   0   1   0   0   1   0   0  ...   0   0   0   0   0   0   0   \n",
       "\n",
       "      47  48  49  \n",
       "0      0   0   0  \n",
       "1      0   1   0  \n",
       "2      1   0   1  \n",
       "3      0   0   0  \n",
       "4      0   0   0  \n",
       "...   ..  ..  ..  \n",
       "4138   0   1   0  \n",
       "4139   1   1   1  \n",
       "4140   0   0   0  \n",
       "4141   0   0   0  \n",
       "4142   0   0   0  \n",
       "\n",
       "[4143 rows x 60 columns]"
      ]
     },
     "execution_count": 4,
     "metadata": {},
     "output_type": "execute_result"
    }
   ],
   "source": [
    "data_text = pd.DataFrame(data_text)\n",
    "D = pd.concat([pd.DataFrame(data3.values),pd.DataFrame(data_text.values)],axis=1)\n",
    "D"
   ]
  },
  {
   "cell_type": "markdown",
   "metadata": {},
   "source": [
    "Define my features and target. here i use the whole dataset ie 100%"
   ]
  },
  {
   "cell_type": "code",
   "execution_count": 5,
   "metadata": {},
   "outputs": [],
   "source": [
    "data['rating'] =data['rating'].apply(lambda x  :x-1)\n",
    "y=data['rating'].values\n",
    "x = D.values"
   ]
  },
  {
   "cell_type": "markdown",
   "metadata": {},
   "source": [
    "## Define the function"
   ]
  },
  {
   "cell_type": "code",
   "execution_count": 6,
   "metadata": {},
   "outputs": [],
   "source": [
    "#our function\n",
    "class Gaussian(object):\n",
    "    \n",
    "      \n",
    "    '''\n",
    "    The GDA algorithm (generative algorithm) is a generative \n",
    "    learning algorithm in which we assume p(x|y) is distributed according to a multivariate normal distribution\n",
    "    '''\n",
    "    #initialise our variables\n",
    "    def __init__(self,x,y):\n",
    "        self.phi = 0\n",
    "        self.x = x\n",
    "        self.y = y\n",
    "     \n",
    "    #calculate the function phi\n",
    "    def calculate_phi(self):\n",
    "        classes = np.unique(self.y)\n",
    "        n_samples = len(self.y)\n",
    "        pi = []\n",
    "        for k in classes:\n",
    "            pi.append(np.sum(self.y==k)/n_samples)\n",
    "        return pi\n",
    "    \n",
    "     #calculate the mu  \n",
    "    def calculate_mu(self):\n",
    "        classes = np.unique(self.y)\n",
    "        mu = []\n",
    "        for i in classes:\n",
    "            mu.append( np.mean(x[y==1],axis=0))\n",
    "        return mu\n",
    "\n",
    "    #calculate the sigma\n",
    "    def calculate_sigma(self):\n",
    "            x = self.x\n",
    "            classes = np.unique(self.y)\n",
    "            n_samples= len(self.y)\n",
    "            sigma =0\n",
    "\n",
    "            for i in range(n_samples):\n",
    "                for k in classes:\n",
    "                    if self.y[i] ==k:\n",
    "                        sigma+= (x[i].reshape(1,-1)-mu[k]).T@(x[i].reshape(1,-1)-mu[k].reshape(1,-1))\n",
    "                        #print(sigma.shape)\n",
    "            return sigma/n_samples\n",
    " \n",
    "    # define the  multivariate normal distribution\n",
    "    def multivariate(self,x,sigma,mu):\n",
    "            dim = len(mu)\n",
    "            c =  (1./np.sqrt((2*np.pi)**(dim))*(LA.det(sigma)+0.1)**0.5)\n",
    "            gaussian = c * np.exp((-0.5)*np.dot(np.dot((x-mu), LA.inv(sigma)), (x-mu).T))\n",
    "\n",
    "            return gaussian\n",
    "\n",
    "        #prediction\n",
    "    def predict(self,x,mu,phi,sigma):\n",
    "        \n",
    "        pred =[]\n",
    "        for i in range(len(x)):\n",
    "                prob =[]\n",
    "                for j in range(len(mu)):\n",
    "                    s=self.multivariate(x[i],sigma,mu[j])*phi[j]\n",
    "                    #print(s)\n",
    "                    prob.append(s)\n",
    "                pred.append(np.argmax(prob))    \n",
    "        return pred"
   ]
  },
  {
   "cell_type": "code",
   "execution_count": 7,
   "metadata": {},
   "outputs": [
    {
     "data": {
      "text/plain": [
       "[0.10137581462708183,\n",
       " 0.032826454260197924,\n",
       " 0.04706734250543085,\n",
       " 0.03644701906830799,\n",
       " 0.05454984310885831,\n",
       " 0.0518947622495776,\n",
       " 0.11368573497465605,\n",
       " 0.18054549843108858,\n",
       " 0.147960415158098,\n",
       " 0.23364711561670287]"
      ]
     },
     "execution_count": 7,
     "metadata": {},
     "output_type": "execute_result"
    }
   ],
   "source": [
    "pi = Gaussian(x,y).calculate_phi()\n",
    "pi"
   ]
  },
  {
   "cell_type": "code",
   "execution_count": 8,
   "metadata": {},
   "outputs": [
    {
     "data": {
      "text/plain": [
       "[array([0.13970588, 0.08823529, 0.40441176, 0.22058824, 0.14705882,\n",
       "        0.13970588, 0.13970588, 0.20588235, 0.07352941, 0.44117647,\n",
       "        0.05882353, 0.13235294, 0.08823529, 0.40441176, 0.29411765,\n",
       "        0.14705882, 0.31617647, 0.24264706, 0.13970588, 0.27205882,\n",
       "        0.09558824, 0.11029412, 0.08823529, 0.375     , 0.16911765,\n",
       "        0.08823529, 0.19852941, 0.09558824, 0.125     , 0.16176471,\n",
       "        0.06617647, 0.19117647, 0.19117647, 0.13970588, 0.16176471,\n",
       "        0.05882353, 0.16176471, 0.27205882, 0.13970588, 0.18382353,\n",
       "        0.21323529, 0.11029412, 0.11029412, 0.19852941, 0.17647059,\n",
       "        0.15441176, 0.14705882, 0.375     , 0.19852941, 0.13235294,\n",
       "        0.30147059, 0.22058824, 0.16911765, 0.05882353, 0.125     ,\n",
       "        0.17647059, 0.08823529, 0.125     , 0.13970588, 0.125     ]),\n",
       " array([0.13970588, 0.08823529, 0.40441176, 0.22058824, 0.14705882,\n",
       "        0.13970588, 0.13970588, 0.20588235, 0.07352941, 0.44117647,\n",
       "        0.05882353, 0.13235294, 0.08823529, 0.40441176, 0.29411765,\n",
       "        0.14705882, 0.31617647, 0.24264706, 0.13970588, 0.27205882,\n",
       "        0.09558824, 0.11029412, 0.08823529, 0.375     , 0.16911765,\n",
       "        0.08823529, 0.19852941, 0.09558824, 0.125     , 0.16176471,\n",
       "        0.06617647, 0.19117647, 0.19117647, 0.13970588, 0.16176471,\n",
       "        0.05882353, 0.16176471, 0.27205882, 0.13970588, 0.18382353,\n",
       "        0.21323529, 0.11029412, 0.11029412, 0.19852941, 0.17647059,\n",
       "        0.15441176, 0.14705882, 0.375     , 0.19852941, 0.13235294,\n",
       "        0.30147059, 0.22058824, 0.16911765, 0.05882353, 0.125     ,\n",
       "        0.17647059, 0.08823529, 0.125     , 0.13970588, 0.125     ]),\n",
       " array([0.13970588, 0.08823529, 0.40441176, 0.22058824, 0.14705882,\n",
       "        0.13970588, 0.13970588, 0.20588235, 0.07352941, 0.44117647,\n",
       "        0.05882353, 0.13235294, 0.08823529, 0.40441176, 0.29411765,\n",
       "        0.14705882, 0.31617647, 0.24264706, 0.13970588, 0.27205882,\n",
       "        0.09558824, 0.11029412, 0.08823529, 0.375     , 0.16911765,\n",
       "        0.08823529, 0.19852941, 0.09558824, 0.125     , 0.16176471,\n",
       "        0.06617647, 0.19117647, 0.19117647, 0.13970588, 0.16176471,\n",
       "        0.05882353, 0.16176471, 0.27205882, 0.13970588, 0.18382353,\n",
       "        0.21323529, 0.11029412, 0.11029412, 0.19852941, 0.17647059,\n",
       "        0.15441176, 0.14705882, 0.375     , 0.19852941, 0.13235294,\n",
       "        0.30147059, 0.22058824, 0.16911765, 0.05882353, 0.125     ,\n",
       "        0.17647059, 0.08823529, 0.125     , 0.13970588, 0.125     ]),\n",
       " array([0.13970588, 0.08823529, 0.40441176, 0.22058824, 0.14705882,\n",
       "        0.13970588, 0.13970588, 0.20588235, 0.07352941, 0.44117647,\n",
       "        0.05882353, 0.13235294, 0.08823529, 0.40441176, 0.29411765,\n",
       "        0.14705882, 0.31617647, 0.24264706, 0.13970588, 0.27205882,\n",
       "        0.09558824, 0.11029412, 0.08823529, 0.375     , 0.16911765,\n",
       "        0.08823529, 0.19852941, 0.09558824, 0.125     , 0.16176471,\n",
       "        0.06617647, 0.19117647, 0.19117647, 0.13970588, 0.16176471,\n",
       "        0.05882353, 0.16176471, 0.27205882, 0.13970588, 0.18382353,\n",
       "        0.21323529, 0.11029412, 0.11029412, 0.19852941, 0.17647059,\n",
       "        0.15441176, 0.14705882, 0.375     , 0.19852941, 0.13235294,\n",
       "        0.30147059, 0.22058824, 0.16911765, 0.05882353, 0.125     ,\n",
       "        0.17647059, 0.08823529, 0.125     , 0.13970588, 0.125     ]),\n",
       " array([0.13970588, 0.08823529, 0.40441176, 0.22058824, 0.14705882,\n",
       "        0.13970588, 0.13970588, 0.20588235, 0.07352941, 0.44117647,\n",
       "        0.05882353, 0.13235294, 0.08823529, 0.40441176, 0.29411765,\n",
       "        0.14705882, 0.31617647, 0.24264706, 0.13970588, 0.27205882,\n",
       "        0.09558824, 0.11029412, 0.08823529, 0.375     , 0.16911765,\n",
       "        0.08823529, 0.19852941, 0.09558824, 0.125     , 0.16176471,\n",
       "        0.06617647, 0.19117647, 0.19117647, 0.13970588, 0.16176471,\n",
       "        0.05882353, 0.16176471, 0.27205882, 0.13970588, 0.18382353,\n",
       "        0.21323529, 0.11029412, 0.11029412, 0.19852941, 0.17647059,\n",
       "        0.15441176, 0.14705882, 0.375     , 0.19852941, 0.13235294,\n",
       "        0.30147059, 0.22058824, 0.16911765, 0.05882353, 0.125     ,\n",
       "        0.17647059, 0.08823529, 0.125     , 0.13970588, 0.125     ]),\n",
       " array([0.13970588, 0.08823529, 0.40441176, 0.22058824, 0.14705882,\n",
       "        0.13970588, 0.13970588, 0.20588235, 0.07352941, 0.44117647,\n",
       "        0.05882353, 0.13235294, 0.08823529, 0.40441176, 0.29411765,\n",
       "        0.14705882, 0.31617647, 0.24264706, 0.13970588, 0.27205882,\n",
       "        0.09558824, 0.11029412, 0.08823529, 0.375     , 0.16911765,\n",
       "        0.08823529, 0.19852941, 0.09558824, 0.125     , 0.16176471,\n",
       "        0.06617647, 0.19117647, 0.19117647, 0.13970588, 0.16176471,\n",
       "        0.05882353, 0.16176471, 0.27205882, 0.13970588, 0.18382353,\n",
       "        0.21323529, 0.11029412, 0.11029412, 0.19852941, 0.17647059,\n",
       "        0.15441176, 0.14705882, 0.375     , 0.19852941, 0.13235294,\n",
       "        0.30147059, 0.22058824, 0.16911765, 0.05882353, 0.125     ,\n",
       "        0.17647059, 0.08823529, 0.125     , 0.13970588, 0.125     ]),\n",
       " array([0.13970588, 0.08823529, 0.40441176, 0.22058824, 0.14705882,\n",
       "        0.13970588, 0.13970588, 0.20588235, 0.07352941, 0.44117647,\n",
       "        0.05882353, 0.13235294, 0.08823529, 0.40441176, 0.29411765,\n",
       "        0.14705882, 0.31617647, 0.24264706, 0.13970588, 0.27205882,\n",
       "        0.09558824, 0.11029412, 0.08823529, 0.375     , 0.16911765,\n",
       "        0.08823529, 0.19852941, 0.09558824, 0.125     , 0.16176471,\n",
       "        0.06617647, 0.19117647, 0.19117647, 0.13970588, 0.16176471,\n",
       "        0.05882353, 0.16176471, 0.27205882, 0.13970588, 0.18382353,\n",
       "        0.21323529, 0.11029412, 0.11029412, 0.19852941, 0.17647059,\n",
       "        0.15441176, 0.14705882, 0.375     , 0.19852941, 0.13235294,\n",
       "        0.30147059, 0.22058824, 0.16911765, 0.05882353, 0.125     ,\n",
       "        0.17647059, 0.08823529, 0.125     , 0.13970588, 0.125     ]),\n",
       " array([0.13970588, 0.08823529, 0.40441176, 0.22058824, 0.14705882,\n",
       "        0.13970588, 0.13970588, 0.20588235, 0.07352941, 0.44117647,\n",
       "        0.05882353, 0.13235294, 0.08823529, 0.40441176, 0.29411765,\n",
       "        0.14705882, 0.31617647, 0.24264706, 0.13970588, 0.27205882,\n",
       "        0.09558824, 0.11029412, 0.08823529, 0.375     , 0.16911765,\n",
       "        0.08823529, 0.19852941, 0.09558824, 0.125     , 0.16176471,\n",
       "        0.06617647, 0.19117647, 0.19117647, 0.13970588, 0.16176471,\n",
       "        0.05882353, 0.16176471, 0.27205882, 0.13970588, 0.18382353,\n",
       "        0.21323529, 0.11029412, 0.11029412, 0.19852941, 0.17647059,\n",
       "        0.15441176, 0.14705882, 0.375     , 0.19852941, 0.13235294,\n",
       "        0.30147059, 0.22058824, 0.16911765, 0.05882353, 0.125     ,\n",
       "        0.17647059, 0.08823529, 0.125     , 0.13970588, 0.125     ]),\n",
       " array([0.13970588, 0.08823529, 0.40441176, 0.22058824, 0.14705882,\n",
       "        0.13970588, 0.13970588, 0.20588235, 0.07352941, 0.44117647,\n",
       "        0.05882353, 0.13235294, 0.08823529, 0.40441176, 0.29411765,\n",
       "        0.14705882, 0.31617647, 0.24264706, 0.13970588, 0.27205882,\n",
       "        0.09558824, 0.11029412, 0.08823529, 0.375     , 0.16911765,\n",
       "        0.08823529, 0.19852941, 0.09558824, 0.125     , 0.16176471,\n",
       "        0.06617647, 0.19117647, 0.19117647, 0.13970588, 0.16176471,\n",
       "        0.05882353, 0.16176471, 0.27205882, 0.13970588, 0.18382353,\n",
       "        0.21323529, 0.11029412, 0.11029412, 0.19852941, 0.17647059,\n",
       "        0.15441176, 0.14705882, 0.375     , 0.19852941, 0.13235294,\n",
       "        0.30147059, 0.22058824, 0.16911765, 0.05882353, 0.125     ,\n",
       "        0.17647059, 0.08823529, 0.125     , 0.13970588, 0.125     ]),\n",
       " array([0.13970588, 0.08823529, 0.40441176, 0.22058824, 0.14705882,\n",
       "        0.13970588, 0.13970588, 0.20588235, 0.07352941, 0.44117647,\n",
       "        0.05882353, 0.13235294, 0.08823529, 0.40441176, 0.29411765,\n",
       "        0.14705882, 0.31617647, 0.24264706, 0.13970588, 0.27205882,\n",
       "        0.09558824, 0.11029412, 0.08823529, 0.375     , 0.16911765,\n",
       "        0.08823529, 0.19852941, 0.09558824, 0.125     , 0.16176471,\n",
       "        0.06617647, 0.19117647, 0.19117647, 0.13970588, 0.16176471,\n",
       "        0.05882353, 0.16176471, 0.27205882, 0.13970588, 0.18382353,\n",
       "        0.21323529, 0.11029412, 0.11029412, 0.19852941, 0.17647059,\n",
       "        0.15441176, 0.14705882, 0.375     , 0.19852941, 0.13235294,\n",
       "        0.30147059, 0.22058824, 0.16911765, 0.05882353, 0.125     ,\n",
       "        0.17647059, 0.08823529, 0.125     , 0.13970588, 0.125     ])]"
      ]
     },
     "execution_count": 8,
     "metadata": {},
     "output_type": "execute_result"
    }
   ],
   "source": [
    "mu =  Gaussian(x,y).calculate_mu()\n",
    "mu"
   ]
  },
  {
   "cell_type": "code",
   "execution_count": 9,
   "metadata": {},
   "outputs": [
    {
     "data": {
      "text/plain": [
       "array([[ 0.23484195, -0.07274741, -0.07544071, ..., -0.00405783,\n",
       "        -0.00175131,  0.00478948],\n",
       "       [-0.07274741,  0.35385467, -0.14126816, ..., -0.00057947,\n",
       "        -0.0037721 ,  0.03409986],\n",
       "       [-0.07544071, -0.14126816,  0.1787304 , ...,  0.00470341,\n",
       "         0.00688809, -0.02144098],\n",
       "       ...,\n",
       "       [-0.00405783, -0.00057947,  0.00470341, ...,  0.10686323,\n",
       "         0.00764867,  0.00775027],\n",
       "       [-0.00175131, -0.0037721 ,  0.00688809, ...,  0.00764867,\n",
       "         0.11309159,  0.00491017],\n",
       "       [ 0.00478948,  0.03409986, -0.02144098, ...,  0.00775027,\n",
       "         0.00491017,  0.15266338]])"
      ]
     },
     "execution_count": 9,
     "metadata": {},
     "output_type": "execute_result"
    }
   ],
   "source": [
    "sigma  =  Gaussian(x,y).calculate_sigma()\n",
    "sigma"
   ]
  },
  {
   "cell_type": "code",
   "execution_count": 10,
   "metadata": {},
   "outputs": [],
   "source": [
    "# X_train = x[20:]\n",
    "# X_test = x[:20]\n",
    "# Y_train = y[20:]\n",
    "# Y_test = y[:20]"
   ]
  },
  {
   "cell_type": "code",
   "execution_count": 11,
   "metadata": {},
   "outputs": [],
   "source": [
    "X_train = x[20:]\n",
    "X_test = x[:20]\n",
    "Y_train = y[20:]\n",
    "Y_test = y[:20]"
   ]
  },
  {
   "cell_type": "code",
   "execution_count": 12,
   "metadata": {},
   "outputs": [
    {
     "data": {
      "text/plain": [
       "[9, 9, 9, 9, 9, 9, 9, 9, 9, 9, 9, 9, 9, 9, 9, 9, 9, 9, 9, 9]"
      ]
     },
     "execution_count": 12,
     "metadata": {},
     "output_type": "execute_result"
    }
   ],
   "source": [
    "pred_test = Gaussian(x,y).predict(X_test,mu,pi,sigma)\n",
    "pred_test"
   ]
  },
  {
   "cell_type": "code",
   "execution_count": null,
   "metadata": {},
   "outputs": [],
   "source": []
  },
  {
   "cell_type": "markdown",
   "metadata": {},
   "source": [
    "## The accuracy"
   ]
  },
  {
   "cell_type": "code",
   "execution_count": 13,
   "metadata": {},
   "outputs": [
    {
     "name": "stdout",
     "output_type": "stream",
     "text": [
      "30.0\n"
     ]
    }
   ],
   "source": [
    "s=0\n",
    "for i in range(len(Y_test)):\n",
    "    if Y_test[i]==pred_test[i]:\n",
    "        s=s+1\n",
    "                \n",
    "print((s/len(Y_test)) *100) \n",
    "    "
   ]
  },
  {
   "cell_type": "markdown",
   "metadata": {},
   "source": [
    "## Using 10% of the data"
   ]
  },
  {
   "cell_type": "code",
   "execution_count": 14,
   "metadata": {},
   "outputs": [],
   "source": [
    "percentage = int(len(x)* 10/100)\n",
    "x = x[:percentage,]\n",
    "y = y[:percentage]\n",
    "X_train = x[20:]\n",
    "X_test = x[:20]\n",
    "Y_train = y[20:]\n",
    "Y_test = y[:20]"
   ]
  },
  {
   "cell_type": "code",
   "execution_count": 15,
   "metadata": {},
   "outputs": [
    {
     "data": {
      "text/plain": [
       "[9, 9, 9, 9, 9, 9, 9, 9, 9, 9, 9, 9, 9, 9, 9, 9, 9, 9, 9, 9]"
      ]
     },
     "execution_count": 15,
     "metadata": {},
     "output_type": "execute_result"
    }
   ],
   "source": [
    "pi = Gaussian(x,y).calculate_phi()\n",
    "mu =  Gaussian(x,y).calculate_mu()\n",
    "sigma  =  Gaussian(x,y).calculate_sigma()\n",
    "pred_test = Gaussian(x,y).predict(X_test,mu,pi,sigma)\n",
    "pred_test"
   ]
  },
  {
   "cell_type": "code",
   "execution_count": 16,
   "metadata": {},
   "outputs": [
    {
     "name": "stdout",
     "output_type": "stream",
     "text": [
      "30.0\n"
     ]
    }
   ],
   "source": [
    "s=0\n",
    "for i in range(len(Y_test)):\n",
    "    if Y_test[i]==pred_test[i]:\n",
    "        s=s+1\n",
    "                \n",
    "print((s/len(Y_test)) *100) "
   ]
  },
  {
   "cell_type": "code",
   "execution_count": null,
   "metadata": {},
   "outputs": [],
   "source": []
  },
  {
   "cell_type": "markdown",
   "metadata": {},
   "source": [
    "## Using 30% of the data"
   ]
  },
  {
   "cell_type": "code",
   "execution_count": 17,
   "metadata": {},
   "outputs": [],
   "source": [
    "percentage = int(len(x)* 30/100)\n",
    "x = x[:percentage,]\n",
    "y = y[:percentage]\n",
    "X_train = x[20:]\n",
    "X_test = x[:20]\n",
    "Y_train = y[20:]\n",
    "Y_test = y[:20]"
   ]
  },
  {
   "cell_type": "code",
   "execution_count": 18,
   "metadata": {},
   "outputs": [
    {
     "data": {
      "text/plain": [
       "[9, 9, 9, 9, 9, 9, 9, 9, 9, 9, 9, 9, 9, 9, 9, 9, 9, 9, 9, 9]"
      ]
     },
     "execution_count": 18,
     "metadata": {},
     "output_type": "execute_result"
    }
   ],
   "source": [
    "pi = Gaussian(x,y).calculate_phi()\n",
    "mu =  Gaussian(x,y).calculate_mu()\n",
    "sigma  =  Gaussian(x,y).calculate_sigma()\n",
    "pred_test = Gaussian(x,y).predict(X_test,mu,pi,sigma)\n",
    "pred_test"
   ]
  },
  {
   "cell_type": "code",
   "execution_count": 19,
   "metadata": {},
   "outputs": [
    {
     "name": "stdout",
     "output_type": "stream",
     "text": [
      "30.0\n"
     ]
    }
   ],
   "source": [
    "s=0\n",
    "for i in range(len(Y_test)):\n",
    "    if Y_test[i]==pred_test[i]:\n",
    "        s=s+1\n",
    "                \n",
    "print((s/len(Y_test)) *100) "
   ]
  },
  {
   "cell_type": "markdown",
   "metadata": {},
   "source": [
    "## Using 60% of the data"
   ]
  },
  {
   "cell_type": "code",
   "execution_count": 20,
   "metadata": {},
   "outputs": [],
   "source": [
    "percentage = int(len(x)* 60/100)\n",
    "x = x[:percentage,]\n",
    "y = y[:percentage]\n",
    "X_train = x[20:]\n",
    "X_test = x[:20]\n",
    "Y_train = y[20:]\n",
    "Y_test = y[:20]"
   ]
  },
  {
   "cell_type": "code",
   "execution_count": 21,
   "metadata": {},
   "outputs": [
    {
     "data": {
      "text/plain": [
       "[9, 9, 9, 9, 9, 9, 9, 9, 9, 9, 9, 9, 9, 9, 9, 9, 9, 9, 9, 9]"
      ]
     },
     "execution_count": 21,
     "metadata": {},
     "output_type": "execute_result"
    }
   ],
   "source": [
    "pi = Gaussian(x,y).calculate_phi()\n",
    "mu =  Gaussian(x,y).calculate_mu()\n",
    "sigma  =  Gaussian(x,y).calculate_sigma()\n",
    "pred_test = Gaussian(x,y).predict(X_test,mu,pi,sigma)\n",
    "pred_test"
   ]
  },
  {
   "cell_type": "code",
   "execution_count": 22,
   "metadata": {},
   "outputs": [
    {
     "name": "stdout",
     "output_type": "stream",
     "text": [
      "30.0\n"
     ]
    }
   ],
   "source": [
    "s=0\n",
    "for i in range(len(Y_test)):\n",
    "    if Y_test[i]==pred_test[i]:\n",
    "        s=s+1\n",
    "                \n",
    "print((s/len(Y_test)) *100) "
   ]
  },
  {
   "cell_type": "markdown",
   "metadata": {},
   "source": [
    "## Observations"
   ]
  },
  {
   "cell_type": "markdown",
   "metadata": {},
   "source": [
    "\n",
    "we notice that whatever the size of the input data we get a fairly good performance of the algorithm\n",
    "so in view of all of the above we can say that this model is best suited for solving the problem"
   ]
  },
  {
   "cell_type": "code",
   "execution_count": null,
   "metadata": {},
   "outputs": [],
   "source": []
  }
 ],
 "metadata": {
  "kernelspec": {
   "display_name": "Python 3",
   "language": "python",
   "name": "python3"
  },
  "language_info": {
   "codemirror_mode": {
    "name": "ipython",
    "version": 3
   },
   "file_extension": ".py",
   "mimetype": "text/x-python",
   "name": "python",
   "nbconvert_exporter": "python",
   "pygments_lexer": "ipython3",
   "version": "3.7.3"
  }
 },
 "nbformat": 4,
 "nbformat_minor": 2
}
